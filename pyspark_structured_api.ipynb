{
  "nbformat": 4,
  "nbformat_minor": 0,
  "metadata": {
    "colab": {
      "provenance": []
    },
    "kernelspec": {
      "name": "python3",
      "display_name": "Python 3"
    }
  },
  "cells": [
    {
      "cell_type": "markdown",
      "metadata": {
        "id": "nRD4AWvXv3bd"
      },
      "source": [
        "### Welcome to the Colab Spark Tutorial.\n",
        "\n",
        "We will be using Spark a few times in this course, and the _colab_ environment provides the compute (for 12 hours at a time) we need, along with this wonderful web-based notebook.\n",
        "\n",
        "Today we will be configuring PySpark and exploring the SparkSQL features in relation to the Spark API\n",
        "\n",
        "Source material includes [[1](https://opensource.com/article/19/3/apache-spark-and-dataframes-tutorial)]\n",
        "\n",
        "Sections:\n",
        "\n",
        " 1. Configuring your _colab_\n",
        " 2. Using PySpark\n"
      ]
    },
    {
      "cell_type": "markdown",
      "metadata": {
        "id": "dObl4yHR4aRm"
      },
      "source": [
        "Firstly, we need to configure the _colab_ instance"
      ]
    },
    {
      "cell_type": "code",
      "metadata": {
        "id": "Oy0a51RqrDlC",
        "colab": {
          "base_uri": "https://localhost:8080/"
        },
        "outputId": "b07daa6b-1f5d-41f3-c0a7-cbd80357c84b"
      },
      "source": [
        "!lsb_release -a"
      ],
      "execution_count": null,
      "outputs": [
        {
          "output_type": "stream",
          "name": "stdout",
          "text": [
            "No LSB modules are available.\n",
            "Distributor ID:\tUbuntu\n",
            "Description:\tUbuntu 22.04.3 LTS\n",
            "Release:\t22.04\n",
            "Codename:\tjammy\n"
          ]
        }
      ]
    },
    {
      "cell_type": "code",
      "metadata": {
        "id": "OX6iQmbtrIvl",
        "colab": {
          "base_uri": "https://localhost:8080/"
        },
        "outputId": "6e50f87a-722c-4f78-fdbe-38d3782aff0b"
      },
      "source": [
        "!apt-get update"
      ],
      "execution_count": null,
      "outputs": [
        {
          "output_type": "stream",
          "name": "stdout",
          "text": [
            "\r0% [Working]\r            \rHit:1 http://archive.ubuntu.com/ubuntu jammy InRelease\n",
            "\r0% [Connecting to security.ubuntu.com (185.125.190.83)] [Waiting for headers] [Waiting for headers] \r                                                                                                    \rGet:2 https://cloud.r-project.org/bin/linux/ubuntu jammy-cran40/ InRelease [3,626 B]\n",
            "\r                                                                                                    \rHit:3 https://developer.download.nvidia.com/compute/cuda/repos/ubuntu2204/x86_64  InRelease\n",
            "\r0% [Waiting for headers] [Connecting to security.ubuntu.com (185.125.190.83)] [Waiting for headers] \r                                                                                                    \rGet:4 http://archive.ubuntu.com/ubuntu jammy-updates InRelease [128 kB]\n",
            "Ign:5 https://r2u.stat.illinois.edu/ubuntu jammy InRelease\n",
            "Get:6 https://r2u.stat.illinois.edu/ubuntu jammy Release [5,713 B]\n",
            "Get:7 https://r2u.stat.illinois.edu/ubuntu jammy Release.gpg [793 B]\n",
            "Get:8 http://security.ubuntu.com/ubuntu jammy-security InRelease [129 kB]\n",
            "Hit:9 http://archive.ubuntu.com/ubuntu jammy-backports InRelease\n",
            "Hit:10 https://ppa.launchpadcontent.net/deadsnakes/ppa/ubuntu jammy InRelease\n",
            "Hit:11 https://ppa.launchpadcontent.net/graphics-drivers/ppa/ubuntu jammy InRelease\n",
            "Hit:12 https://ppa.launchpadcontent.net/ubuntugis/ppa/ubuntu jammy InRelease\n",
            "Get:13 https://r2u.stat.illinois.edu/ubuntu jammy/main amd64 Packages [2,576 kB]\n",
            "Get:14 http://archive.ubuntu.com/ubuntu jammy-updates/universe amd64 Packages [1,439 kB]\n",
            "Get:15 https://r2u.stat.illinois.edu/ubuntu jammy/main all Packages [8,311 kB]\n",
            "Get:16 http://archive.ubuntu.com/ubuntu jammy-updates/main amd64 Packages [2,541 kB]\n",
            "Get:17 http://archive.ubuntu.com/ubuntu jammy-updates/restricted amd64 Packages [3,108 kB]\n",
            "Get:18 http://security.ubuntu.com/ubuntu jammy-security/main amd64 Packages [2,267 kB]\n",
            "Get:19 http://security.ubuntu.com/ubuntu jammy-security/restricted amd64 Packages [3,030 kB]\n",
            "Get:20 http://security.ubuntu.com/ubuntu jammy-security/universe amd64 Packages [1,150 kB]\n",
            "Fetched 24.7 MB in 4s (6,083 kB/s)\n",
            "Reading package lists... Done\n",
            "W: Skipping acquire of configured file 'main/source/Sources' as repository 'https://r2u.stat.illinois.edu/ubuntu jammy InRelease' does not seem to provide it (sources.list entry misspelt?)\n"
          ]
        }
      ]
    },
    {
      "cell_type": "code",
      "metadata": {
        "id": "Mm6zycFEsLeI"
      },
      "source": [
        "# Install java\n",
        "!apt-get install openjdk-8-jdk-headless -qq > /dev/null\n"
      ],
      "execution_count": null,
      "outputs": []
    },
    {
      "cell_type": "code",
      "metadata": {
        "id": "mAd3j6fJq1Ex",
        "colab": {
          "base_uri": "https://localhost:8080/"
        },
        "outputId": "761c13fa-bb55-45c2-8e53-e876a34541de"
      },
      "source": [
        "\n",
        "# # get spark\n",
        "VERSION='3.5.2'  # Replace with the version you want\n",
        "!wget https://dlcdn.apache.org/spark/spark-3.5.2/spark-3.5.2-bin-hadoop3.tgz"
      ],
      "execution_count": null,
      "outputs": [
        {
          "output_type": "stream",
          "name": "stdout",
          "text": [
            "--2024-09-13 17:15:23--  https://dlcdn.apache.org/spark/spark-3.5.2/spark-3.5.2-bin-hadoop3.tgz\n",
            "Resolving dlcdn.apache.org (dlcdn.apache.org)... 151.101.2.132, 2a04:4e42::644\n",
            "Connecting to dlcdn.apache.org (dlcdn.apache.org)|151.101.2.132|:443... connected.\n",
            "HTTP request sent, awaiting response... 200 OK\n",
            "Length: 400822099 (382M) [application/x-gzip]\n",
            "Saving to: ‘spark-3.5.2-bin-hadoop3.tgz’\n",
            "\n",
            "spark-3.5.2-bin-had 100%[===================>] 382.25M  44.5MB/s    in 5.9s    \n",
            "\n",
            "2024-09-13 17:15:29 (64.7 MB/s) - ‘spark-3.5.2-bin-hadoop3.tgz’ saved [400822099/400822099]\n",
            "\n"
          ]
        }
      ]
    },
    {
      "cell_type": "code",
      "metadata": {
        "id": "9Wadv8_tsEQw"
      },
      "source": [
        "# decompress spark\n",
        "!tar xf spark-3.5.2-bin-hadoop3.tgz\n",
        "\n",
        "# install python package to help with system paths\n",
        "!pip install -q findspark"
      ],
      "execution_count": null,
      "outputs": []
    },
    {
      "cell_type": "code",
      "metadata": {
        "id": "l60O1BJzuf_h"
      },
      "source": [
        "# Let Colab know where the java and spark folders are\n",
        "\n",
        "import os\n",
        "os.environ[\"JAVA_HOME\"] = \"/usr/lib/jvm/java-8-openjdk-amd64\"\n",
        "os.environ[\"SPARK_HOME\"] = f\"/content/spark-3.5.2-bin-hadoop3\""
      ],
      "execution_count": null,
      "outputs": []
    },
    {
      "cell_type": "code",
      "metadata": {
        "id": "lbpi4WDgu_VL"
      },
      "source": [
        "# add pyspark to sys.path using findspark\n",
        "import findspark\n",
        "findspark.init()\n",
        "\n",
        "# get a spark session\n",
        "from pyspark.sql import SparkSession\n",
        "spark = SparkSession.builder.master(\"local[*]\").getOrCreate()"
      ],
      "execution_count": null,
      "outputs": []
    },
    {
      "cell_type": "markdown",
      "metadata": {
        "id": "87le9nge8TLK"
      },
      "source": [
        "Let's download some url data (\"Anonymized 120-day subset of the ICML-09 URL data containing 2.4 million examples and 3.2 million features\" [UCI](https://archive.ics.uci.edu/ml/datasets/URL+Reputation)"
      ]
    },
    {
      "cell_type": "code",
      "metadata": {
        "id": "W6SHTRfC6pFS",
        "colab": {
          "base_uri": "https://localhost:8080/"
        },
        "outputId": "84763366-ac4f-4a83-8cd1-ee875cfb2698"
      },
      "source": [
        "! wget http://kdd.ics.uci.edu/databases/kddcup99/kddcup.data_10_percent.gz\n",
        "! wget http://kdd.ics.uci.edu/databases/kddcup99/kddcup.names"
      ],
      "execution_count": null,
      "outputs": [
        {
          "output_type": "stream",
          "name": "stdout",
          "text": [
            "--2024-09-13 17:19:53--  http://kdd.ics.uci.edu/databases/kddcup99/kddcup.data_10_percent.gz\n",
            "Resolving kdd.ics.uci.edu (kdd.ics.uci.edu)... 128.195.1.86\n",
            "Connecting to kdd.ics.uci.edu (kdd.ics.uci.edu)|128.195.1.86|:80... connected.\n",
            "HTTP request sent, awaiting response... 200 OK\n",
            "Length: 2144903 (2.0M) [application/x-gzip]\n",
            "Saving to: ‘kddcup.data_10_percent.gz’\n",
            "\n",
            "kddcup.data_10_perc 100%[===================>]   2.04M  4.89MB/s    in 0.4s    \n",
            "\n",
            "2024-09-13 17:19:54 (4.89 MB/s) - ‘kddcup.data_10_percent.gz’ saved [2144903/2144903]\n",
            "\n",
            "--2024-09-13 17:19:54--  http://kdd.ics.uci.edu/databases/kddcup99/kddcup.names\n",
            "Resolving kdd.ics.uci.edu (kdd.ics.uci.edu)... 128.195.1.86\n",
            "Connecting to kdd.ics.uci.edu (kdd.ics.uci.edu)|128.195.1.86|:80... connected.\n",
            "HTTP request sent, awaiting response... 200 OK\n",
            "Length: 1307 (1.3K)\n",
            "Saving to: ‘kddcup.names’\n",
            "\n",
            "kddcup.names        100%[===================>]   1.28K  --.-KB/s    in 0s      \n",
            "\n",
            "2024-09-13 17:19:54 (106 MB/s) - ‘kddcup.names’ saved [1307/1307]\n",
            "\n"
          ]
        }
      ]
    },
    {
      "cell_type": "code",
      "metadata": {
        "id": "EbToU3UA6q_o"
      },
      "source": [
        "!gunzip kddcup.data_10_percent.gz"
      ],
      "execution_count": null,
      "outputs": []
    },
    {
      "cell_type": "code",
      "metadata": {
        "id": "gAr0nnqG6u8v"
      },
      "source": [
        "import pandas as pd\n",
        "df = pd.read_csv('kddcup.data_10_percent', header=None)"
      ],
      "execution_count": null,
      "outputs": []
    },
    {
      "cell_type": "code",
      "metadata": {
        "id": "dLdspkQ1844Q",
        "colab": {
          "base_uri": "https://localhost:8080/",
          "height": 490
        },
        "outputId": "73eb70fb-6186-4c16-8a4f-26a31a49e388"
      },
      "source": [
        "df[2].value_counts()"
      ],
      "execution_count": null,
      "outputs": [
        {
          "output_type": "execute_result",
          "data": {
            "text/plain": [
              "2\n",
              "ecr_i      281400\n",
              "private    110893\n",
              "http        64293\n",
              "smtp         9723\n",
              "other        7237\n",
              "            ...  \n",
              "X11            11\n",
              "tim_i           7\n",
              "pm_dump         1\n",
              "tftp_u          1\n",
              "red_i           1\n",
              "Name: count, Length: 66, dtype: int64"
            ],
            "text/html": [
              "<div>\n",
              "<style scoped>\n",
              "    .dataframe tbody tr th:only-of-type {\n",
              "        vertical-align: middle;\n",
              "    }\n",
              "\n",
              "    .dataframe tbody tr th {\n",
              "        vertical-align: top;\n",
              "    }\n",
              "\n",
              "    .dataframe thead th {\n",
              "        text-align: right;\n",
              "    }\n",
              "</style>\n",
              "<table border=\"1\" class=\"dataframe\">\n",
              "  <thead>\n",
              "    <tr style=\"text-align: right;\">\n",
              "      <th></th>\n",
              "      <th>count</th>\n",
              "    </tr>\n",
              "    <tr>\n",
              "      <th>2</th>\n",
              "      <th></th>\n",
              "    </tr>\n",
              "  </thead>\n",
              "  <tbody>\n",
              "    <tr>\n",
              "      <th>ecr_i</th>\n",
              "      <td>281400</td>\n",
              "    </tr>\n",
              "    <tr>\n",
              "      <th>private</th>\n",
              "      <td>110893</td>\n",
              "    </tr>\n",
              "    <tr>\n",
              "      <th>http</th>\n",
              "      <td>64293</td>\n",
              "    </tr>\n",
              "    <tr>\n",
              "      <th>smtp</th>\n",
              "      <td>9723</td>\n",
              "    </tr>\n",
              "    <tr>\n",
              "      <th>other</th>\n",
              "      <td>7237</td>\n",
              "    </tr>\n",
              "    <tr>\n",
              "      <th>...</th>\n",
              "      <td>...</td>\n",
              "    </tr>\n",
              "    <tr>\n",
              "      <th>X11</th>\n",
              "      <td>11</td>\n",
              "    </tr>\n",
              "    <tr>\n",
              "      <th>tim_i</th>\n",
              "      <td>7</td>\n",
              "    </tr>\n",
              "    <tr>\n",
              "      <th>pm_dump</th>\n",
              "      <td>1</td>\n",
              "    </tr>\n",
              "    <tr>\n",
              "      <th>tftp_u</th>\n",
              "      <td>1</td>\n",
              "    </tr>\n",
              "    <tr>\n",
              "      <th>red_i</th>\n",
              "      <td>1</td>\n",
              "    </tr>\n",
              "  </tbody>\n",
              "</table>\n",
              "<p>66 rows × 1 columns</p>\n",
              "</div><br><label><b>dtype:</b> int64</label>"
            ]
          },
          "metadata": {},
          "execution_count": 22
        }
      ]
    },
    {
      "cell_type": "code",
      "metadata": {
        "id": "BeHGThDKAZpc",
        "colab": {
          "base_uri": "https://localhost:8080/"
        },
        "outputId": "7e1874ab-3aa6-49a8-de54-b26416a36b21"
      },
      "source": [
        "raw_rdd = spark.sparkContext.textFile('kddcup.data_10_percent').cache()\n",
        "raw_rdd.take(5)"
      ],
      "execution_count": null,
      "outputs": [
        {
          "output_type": "execute_result",
          "data": {
            "text/plain": [
              "['0,tcp,http,SF,181,5450,0,0,0,0,0,1,0,0,0,0,0,0,0,0,0,0,8,8,0.00,0.00,0.00,0.00,1.00,0.00,0.00,9,9,1.00,0.00,0.11,0.00,0.00,0.00,0.00,0.00,normal.',\n",
              " '0,tcp,http,SF,239,486,0,0,0,0,0,1,0,0,0,0,0,0,0,0,0,0,8,8,0.00,0.00,0.00,0.00,1.00,0.00,0.00,19,19,1.00,0.00,0.05,0.00,0.00,0.00,0.00,0.00,normal.',\n",
              " '0,tcp,http,SF,235,1337,0,0,0,0,0,1,0,0,0,0,0,0,0,0,0,0,8,8,0.00,0.00,0.00,0.00,1.00,0.00,0.00,29,29,1.00,0.00,0.03,0.00,0.00,0.00,0.00,0.00,normal.',\n",
              " '0,tcp,http,SF,219,1337,0,0,0,0,0,1,0,0,0,0,0,0,0,0,0,0,6,6,0.00,0.00,0.00,0.00,1.00,0.00,0.00,39,39,1.00,0.00,0.03,0.00,0.00,0.00,0.00,0.00,normal.',\n",
              " '0,tcp,http,SF,217,2032,0,0,0,0,0,1,0,0,0,0,0,0,0,0,0,0,6,6,0.00,0.00,0.00,0.00,1.00,0.00,0.00,49,49,1.00,0.00,0.02,0.00,0.00,0.00,0.00,0.00,normal.']"
            ]
          },
          "metadata": {},
          "execution_count": 23
        }
      ]
    },
    {
      "cell_type": "code",
      "metadata": {
        "id": "ZMHP2KnWA0W-",
        "colab": {
          "base_uri": "https://localhost:8080/"
        },
        "outputId": "4e91881d-6f01-4426-8bb7-5ba1d1a42ee5"
      },
      "source": [
        "csv_rdd = raw_rdd.map(lambda row: row.split(\",\"))\n",
        "print(csv_rdd.take(2))\n",
        "print(type(csv_rdd))"
      ],
      "execution_count": null,
      "outputs": [
        {
          "output_type": "stream",
          "name": "stdout",
          "text": [
            "[['0', 'tcp', 'http', 'SF', '181', '5450', '0', '0', '0', '0', '0', '1', '0', '0', '0', '0', '0', '0', '0', '0', '0', '0', '8', '8', '0.00', '0.00', '0.00', '0.00', '1.00', '0.00', '0.00', '9', '9', '1.00', '0.00', '0.11', '0.00', '0.00', '0.00', '0.00', '0.00', 'normal.'], ['0', 'tcp', 'http', 'SF', '239', '486', '0', '0', '0', '0', '0', '1', '0', '0', '0', '0', '0', '0', '0', '0', '0', '0', '8', '8', '0.00', '0.00', '0.00', '0.00', '1.00', '0.00', '0.00', '19', '19', '1.00', '0.00', '0.05', '0.00', '0.00', '0.00', '0.00', '0.00', 'normal.']]\n",
            "<class 'pyspark.rdd.PipelinedRDD'>\n"
          ]
        }
      ]
    },
    {
      "cell_type": "markdown",
      "metadata": {
        "id": "nY3tARyYPdL4"
      },
      "source": [
        "Read the csv directly into a spark dataframe by defining a schema"
      ]
    },
    {
      "cell_type": "code",
      "metadata": {
        "id": "vhLhdHB2BP48",
        "colab": {
          "base_uri": "https://localhost:8080/"
        },
        "outputId": "ee176835-fe0a-4e2e-b241-80a1fcbbce34"
      },
      "source": [
        "from pyspark.sql import Row\n",
        "\n",
        "parsed_rdd = csv_rdd.map(lambda r: Row(\n",
        "    duration=int(r[0]),\n",
        "    protocol_type=r[1],\n",
        "    service=r[2],\n",
        "    flag=r[3],\n",
        "    src_bytes=int(r[4]),\n",
        "    dst_bytes=int(r[5]),\n",
        "    wrong_fragment=int(r[7]),\n",
        "    urgent=int(r[8]),\n",
        "    hot=int(r[9]),\n",
        "    num_failed_logins=int(r[10]),\n",
        "    num_compromised=int(r[12]),\n",
        "    su_attempted=r[14],\n",
        "    num_root=int(r[15]),\n",
        "    num_file_creations=int(r[16]),\n",
        "    label=r[-1]\n",
        "    )\n",
        ")\n",
        "parsed_rdd.take(5)"
      ],
      "execution_count": null,
      "outputs": [
        {
          "output_type": "execute_result",
          "data": {
            "text/plain": [
              "[Row(duration=0, protocol_type='tcp', service='http', flag='SF', src_bytes=181, dst_bytes=5450, wrong_fragment=0, urgent=0, hot=0, num_failed_logins=0, num_compromised=0, su_attempted='0', num_root=0, num_file_creations=0, label='normal.'),\n",
              " Row(duration=0, protocol_type='tcp', service='http', flag='SF', src_bytes=239, dst_bytes=486, wrong_fragment=0, urgent=0, hot=0, num_failed_logins=0, num_compromised=0, su_attempted='0', num_root=0, num_file_creations=0, label='normal.'),\n",
              " Row(duration=0, protocol_type='tcp', service='http', flag='SF', src_bytes=235, dst_bytes=1337, wrong_fragment=0, urgent=0, hot=0, num_failed_logins=0, num_compromised=0, su_attempted='0', num_root=0, num_file_creations=0, label='normal.'),\n",
              " Row(duration=0, protocol_type='tcp', service='http', flag='SF', src_bytes=219, dst_bytes=1337, wrong_fragment=0, urgent=0, hot=0, num_failed_logins=0, num_compromised=0, su_attempted='0', num_root=0, num_file_creations=0, label='normal.'),\n",
              " Row(duration=0, protocol_type='tcp', service='http', flag='SF', src_bytes=217, dst_bytes=2032, wrong_fragment=0, urgent=0, hot=0, num_failed_logins=0, num_compromised=0, su_attempted='0', num_root=0, num_file_creations=0, label='normal.')]"
            ]
          },
          "metadata": {},
          "execution_count": 25
        }
      ]
    },
    {
      "cell_type": "markdown",
      "metadata": {
        "id": "-K8Dj77vPm9R"
      },
      "source": [
        "Convert the RDD to a dataframe"
      ]
    },
    {
      "cell_type": "code",
      "metadata": {
        "id": "vTZqz_CqBhRB",
        "colab": {
          "base_uri": "https://localhost:8080/"
        },
        "outputId": "14b23367-37ff-4bf3-94ee-6d260244e0e4"
      },
      "source": [
        "df = spark.createDataFrame(parsed_rdd)\n",
        "df.show()"
      ],
      "execution_count": null,
      "outputs": [
        {
          "output_type": "stream",
          "name": "stdout",
          "text": [
            "+--------+-------------+-------+----+---------+---------+--------------+------+---+-----------------+---------------+------------+--------+------------------+-------+\n",
            "|duration|protocol_type|service|flag|src_bytes|dst_bytes|wrong_fragment|urgent|hot|num_failed_logins|num_compromised|su_attempted|num_root|num_file_creations|  label|\n",
            "+--------+-------------+-------+----+---------+---------+--------------+------+---+-----------------+---------------+------------+--------+------------------+-------+\n",
            "|       0|          tcp|   http|  SF|      181|     5450|             0|     0|  0|                0|              0|           0|       0|                 0|normal.|\n",
            "|       0|          tcp|   http|  SF|      239|      486|             0|     0|  0|                0|              0|           0|       0|                 0|normal.|\n",
            "|       0|          tcp|   http|  SF|      235|     1337|             0|     0|  0|                0|              0|           0|       0|                 0|normal.|\n",
            "|       0|          tcp|   http|  SF|      219|     1337|             0|     0|  0|                0|              0|           0|       0|                 0|normal.|\n",
            "|       0|          tcp|   http|  SF|      217|     2032|             0|     0|  0|                0|              0|           0|       0|                 0|normal.|\n",
            "|       0|          tcp|   http|  SF|      217|     2032|             0|     0|  0|                0|              0|           0|       0|                 0|normal.|\n",
            "|       0|          tcp|   http|  SF|      212|     1940|             0|     0|  0|                0|              0|           0|       0|                 0|normal.|\n",
            "|       0|          tcp|   http|  SF|      159|     4087|             0|     0|  0|                0|              0|           0|       0|                 0|normal.|\n",
            "|       0|          tcp|   http|  SF|      210|      151|             0|     0|  0|                0|              0|           0|       0|                 0|normal.|\n",
            "|       0|          tcp|   http|  SF|      212|      786|             0|     0|  1|                0|              0|           0|       0|                 0|normal.|\n",
            "|       0|          tcp|   http|  SF|      210|      624|             0|     0|  0|                0|              0|           0|       0|                 0|normal.|\n",
            "|       0|          tcp|   http|  SF|      177|     1985|             0|     0|  0|                0|              0|           0|       0|                 0|normal.|\n",
            "|       0|          tcp|   http|  SF|      222|      773|             0|     0|  0|                0|              0|           0|       0|                 0|normal.|\n",
            "|       0|          tcp|   http|  SF|      256|     1169|             0|     0|  0|                0|              0|           0|       0|                 0|normal.|\n",
            "|       0|          tcp|   http|  SF|      241|      259|             0|     0|  0|                0|              0|           0|       0|                 0|normal.|\n",
            "|       0|          tcp|   http|  SF|      260|     1837|             0|     0|  0|                0|              0|           0|       0|                 0|normal.|\n",
            "|       0|          tcp|   http|  SF|      241|      261|             0|     0|  0|                0|              0|           0|       0|                 0|normal.|\n",
            "|       0|          tcp|   http|  SF|      257|      818|             0|     0|  0|                0|              0|           0|       0|                 0|normal.|\n",
            "|       0|          tcp|   http|  SF|      233|      255|             0|     0|  0|                0|              0|           0|       0|                 0|normal.|\n",
            "|       0|          tcp|   http|  SF|      233|      504|             0|     0|  0|                0|              0|           0|       0|                 0|normal.|\n",
            "+--------+-------------+-------+----+---------+---------+--------------+------+---+-----------------+---------------+------------+--------+------------------+-------+\n",
            "only showing top 20 rows\n",
            "\n"
          ]
        }
      ]
    },
    {
      "cell_type": "code",
      "metadata": {
        "id": "uQU24SGs6YZS"
      },
      "source": [
        "from pyspark.sql import functions as f"
      ],
      "execution_count": null,
      "outputs": []
    },
    {
      "cell_type": "code",
      "metadata": {
        "id": "yNNA7WHlCD_u",
        "colab": {
          "base_uri": "https://localhost:8080/"
        },
        "outputId": "28470d4b-498a-4efb-acaf-9d1d890413b9"
      },
      "source": [
        "# register a temporary table to query against.\n",
        "df.registerTempTable('data')"
      ],
      "execution_count": null,
      "outputs": [
        {
          "output_type": "stream",
          "name": "stderr",
          "text": [
            "/content/spark-3.5.2-bin-hadoop3/python/pyspark/sql/dataframe.py:329: FutureWarning: Deprecated in 2.0, use createOrReplaceTempView instead.\n",
            "  warnings.warn(\"Deprecated in 2.0, use createOrReplaceTempView instead.\", FutureWarning)\n"
          ]
        }
      ]
    },
    {
      "cell_type": "markdown",
      "metadata": {
        "id": "p12ji90-PvFv"
      },
      "source": [
        "# Comparing SQL to API"
      ]
    },
    {
      "cell_type": "markdown",
      "metadata": {
        "id": "AB3QG86AIc9Q"
      },
      "source": [
        "---\n",
        "#0. Select columns"
      ]
    },
    {
      "cell_type": "code",
      "metadata": {
        "id": "QHM-LsliHwen"
      },
      "source": [
        "select = spark.sql(\"\"\"SELECT protocol_type, service\n",
        "                      FROM data\"\"\")"
      ],
      "execution_count": null,
      "outputs": []
    },
    {
      "cell_type": "code",
      "metadata": {
        "id": "V_ZSeIJQHw8b",
        "colab": {
          "base_uri": "https://localhost:8080/"
        },
        "outputId": "f203a3c4-bb81-4a0a-d806-cc247e12536a"
      },
      "source": [
        "select.show(10)"
      ],
      "execution_count": null,
      "outputs": [
        {
          "output_type": "stream",
          "name": "stdout",
          "text": [
            "+-------------+-------+\n",
            "|protocol_type|service|\n",
            "+-------------+-------+\n",
            "|          tcp|   http|\n",
            "|          tcp|   http|\n",
            "|          tcp|   http|\n",
            "|          tcp|   http|\n",
            "|          tcp|   http|\n",
            "|          tcp|   http|\n",
            "|          tcp|   http|\n",
            "|          tcp|   http|\n",
            "|          tcp|   http|\n",
            "|          tcp|   http|\n",
            "+-------------+-------+\n",
            "only showing top 10 rows\n",
            "\n"
          ]
        }
      ]
    },
    {
      "cell_type": "code",
      "metadata": {
        "id": "wqO6_d1MHwzH"
      },
      "source": [
        "select_spark = df.select('protocol_type', 'service')"
      ],
      "execution_count": null,
      "outputs": []
    },
    {
      "cell_type": "code",
      "metadata": {
        "id": "DUftQKIHHwTl",
        "colab": {
          "base_uri": "https://localhost:8080/"
        },
        "outputId": "e1441fc2-09c0-4c45-fa74-1f59cf9d9f3c"
      },
      "source": [
        "select_spark.show(10)"
      ],
      "execution_count": null,
      "outputs": [
        {
          "output_type": "stream",
          "name": "stdout",
          "text": [
            "+-------------+-------+\n",
            "|protocol_type|service|\n",
            "+-------------+-------+\n",
            "|          tcp|   http|\n",
            "|          tcp|   http|\n",
            "|          tcp|   http|\n",
            "|          tcp|   http|\n",
            "|          tcp|   http|\n",
            "|          tcp|   http|\n",
            "|          tcp|   http|\n",
            "|          tcp|   http|\n",
            "|          tcp|   http|\n",
            "|          tcp|   http|\n",
            "+-------------+-------+\n",
            "only showing top 10 rows\n",
            "\n"
          ]
        }
      ]
    },
    {
      "cell_type": "markdown",
      "metadata": {
        "id": "wgFosi_oJFJb"
      },
      "source": [
        "#### OR using a list also works"
      ]
    },
    {
      "cell_type": "code",
      "metadata": {
        "id": "QKNEqFSGJIkx",
        "colab": {
          "base_uri": "https://localhost:8080/"
        },
        "outputId": "cb254ec8-464e-4ee2-a678-e0179da64288"
      },
      "source": [
        "select_spark = df.select(['protocol_type', 'service'])\n",
        "select_spark.show(10)"
      ],
      "execution_count": null,
      "outputs": [
        {
          "output_type": "stream",
          "name": "stdout",
          "text": [
            "+-------------+-------+\n",
            "|protocol_type|service|\n",
            "+-------------+-------+\n",
            "|          tcp|   http|\n",
            "|          tcp|   http|\n",
            "|          tcp|   http|\n",
            "|          tcp|   http|\n",
            "|          tcp|   http|\n",
            "|          tcp|   http|\n",
            "|          tcp|   http|\n",
            "|          tcp|   http|\n",
            "|          tcp|   http|\n",
            "|          tcp|   http|\n",
            "+-------------+-------+\n",
            "only showing top 10 rows\n",
            "\n"
          ]
        }
      ]
    },
    {
      "cell_type": "markdown",
      "metadata": {
        "id": "UexKUefVJSOQ"
      },
      "source": [
        "---\n",
        "# 1. select as alias"
      ]
    },
    {
      "cell_type": "code",
      "metadata": {
        "id": "k7j_LBFWJchg"
      },
      "source": [
        "alias = spark.sql(\"\"\"SELECT protocol_type,\n",
        "                            label as flag\n",
        "                     FROM data\n",
        "                  \"\"\")"
      ],
      "execution_count": null,
      "outputs": []
    },
    {
      "cell_type": "code",
      "metadata": {
        "id": "VA5FWkOyJczb",
        "colab": {
          "base_uri": "https://localhost:8080/"
        },
        "outputId": "be955769-a819-4eac-a927-191d4bb5d4d6"
      },
      "source": [
        "alias.show()"
      ],
      "execution_count": null,
      "outputs": [
        {
          "output_type": "stream",
          "name": "stdout",
          "text": [
            "+-------------+-------+\n",
            "|protocol_type|   flag|\n",
            "+-------------+-------+\n",
            "|          tcp|normal.|\n",
            "|          tcp|normal.|\n",
            "|          tcp|normal.|\n",
            "|          tcp|normal.|\n",
            "|          tcp|normal.|\n",
            "|          tcp|normal.|\n",
            "|          tcp|normal.|\n",
            "|          tcp|normal.|\n",
            "|          tcp|normal.|\n",
            "|          tcp|normal.|\n",
            "|          tcp|normal.|\n",
            "|          tcp|normal.|\n",
            "|          tcp|normal.|\n",
            "|          tcp|normal.|\n",
            "|          tcp|normal.|\n",
            "|          tcp|normal.|\n",
            "|          tcp|normal.|\n",
            "|          tcp|normal.|\n",
            "|          tcp|normal.|\n",
            "|          tcp|normal.|\n",
            "+-------------+-------+\n",
            "only showing top 20 rows\n",
            "\n"
          ]
        }
      ]
    },
    {
      "cell_type": "code",
      "metadata": {
        "id": "ibkdCi1xJcmV"
      },
      "source": [
        "alias_spark = df.select('protocol_type', 'label').withColumnRenamed('label', 'flag')"
      ],
      "execution_count": null,
      "outputs": []
    },
    {
      "cell_type": "code",
      "metadata": {
        "id": "ysR___SFJceU",
        "colab": {
          "base_uri": "https://localhost:8080/"
        },
        "outputId": "87433354-538f-4410-f903-7ee5edb815cf"
      },
      "source": [
        "alias_spark.show()"
      ],
      "execution_count": null,
      "outputs": [
        {
          "output_type": "stream",
          "name": "stdout",
          "text": [
            "+-------------+-------+\n",
            "|protocol_type|   flag|\n",
            "+-------------+-------+\n",
            "|          tcp|normal.|\n",
            "|          tcp|normal.|\n",
            "|          tcp|normal.|\n",
            "|          tcp|normal.|\n",
            "|          tcp|normal.|\n",
            "|          tcp|normal.|\n",
            "|          tcp|normal.|\n",
            "|          tcp|normal.|\n",
            "|          tcp|normal.|\n",
            "|          tcp|normal.|\n",
            "|          tcp|normal.|\n",
            "|          tcp|normal.|\n",
            "|          tcp|normal.|\n",
            "|          tcp|normal.|\n",
            "|          tcp|normal.|\n",
            "|          tcp|normal.|\n",
            "|          tcp|normal.|\n",
            "|          tcp|normal.|\n",
            "|          tcp|normal.|\n",
            "|          tcp|normal.|\n",
            "+-------------+-------+\n",
            "only showing top 20 rows\n",
            "\n"
          ]
        }
      ]
    },
    {
      "cell_type": "markdown",
      "metadata": {
        "id": "_VkTVQ5VKZ5s"
      },
      "source": [
        "#### OR using dataframe column-objects with .alias"
      ]
    },
    {
      "cell_type": "code",
      "metadata": {
        "id": "Rd7lAhSmKRAX",
        "colab": {
          "base_uri": "https://localhost:8080/"
        },
        "outputId": "da2e3638-52f7-4894-d4c3-872ba3fd3b60"
      },
      "source": [
        "alias_spark = df.select(df.protocol_type, df.label.alias('flag'))\n",
        "alias_spark.show(10)"
      ],
      "execution_count": null,
      "outputs": [
        {
          "output_type": "stream",
          "name": "stdout",
          "text": [
            "+-------------+-------+\n",
            "|protocol_type|   flag|\n",
            "+-------------+-------+\n",
            "|          tcp|normal.|\n",
            "|          tcp|normal.|\n",
            "|          tcp|normal.|\n",
            "|          tcp|normal.|\n",
            "|          tcp|normal.|\n",
            "|          tcp|normal.|\n",
            "|          tcp|normal.|\n",
            "|          tcp|normal.|\n",
            "|          tcp|normal.|\n",
            "|          tcp|normal.|\n",
            "+-------------+-------+\n",
            "only showing top 10 rows\n",
            "\n"
          ]
        }
      ]
    },
    {
      "cell_type": "markdown",
      "metadata": {
        "id": "d8TdxqQz_DXR"
      },
      "source": [
        "# 2. group by, count, order by"
      ]
    },
    {
      "cell_type": "code",
      "metadata": {
        "id": "q4le_EnCCWY0",
        "colab": {
          "base_uri": "https://localhost:8080/"
        },
        "outputId": "219ed941-09aa-45d1-f499-44fcfb6e95b1"
      },
      "source": [
        "protocols = spark.sql(\"\"\"\n",
        "      SELECT protocol_type, count(*) as freq\n",
        "      FROM data\n",
        "      GROUP BY protocol_type\n",
        "      ORDER BY 2 DESC\n",
        "                           \"\"\")\n",
        "protocols.show()"
      ],
      "execution_count": null,
      "outputs": [
        {
          "output_type": "stream",
          "name": "stdout",
          "text": [
            "+-------------+------+\n",
            "|protocol_type|  freq|\n",
            "+-------------+------+\n",
            "|         icmp|283602|\n",
            "|          tcp|190065|\n",
            "|          udp| 20354|\n",
            "+-------------+------+\n",
            "\n"
          ]
        }
      ]
    },
    {
      "cell_type": "code",
      "metadata": {
        "id": "Bmp9bXaRCLjO",
        "colab": {
          "base_uri": "https://localhost:8080/"
        },
        "outputId": "fd6748f7-d91c-4aa6-9f1d-d049ee2c7591"
      },
      "source": [
        "df.groupBy('protocol_type').count().orderBy('count', ascending=False).show()"
      ],
      "execution_count": null,
      "outputs": [
        {
          "output_type": "stream",
          "name": "stdout",
          "text": [
            "+-------------+------+\n",
            "|protocol_type| count|\n",
            "+-------------+------+\n",
            "|         icmp|283602|\n",
            "|          tcp|190065|\n",
            "|          udp| 20354|\n",
            "+-------------+------+\n",
            "\n"
          ]
        }
      ]
    },
    {
      "cell_type": "code",
      "metadata": {
        "id": "e8T7v7-hCueD"
      },
      "source": [
        "df.count()"
      ],
      "execution_count": null,
      "outputs": []
    },
    {
      "cell_type": "markdown",
      "metadata": {
        "id": "06jXlwmU_O0c"
      },
      "source": [
        "---\n",
        "# 3. group by, count, order by (using agg)"
      ]
    },
    {
      "cell_type": "code",
      "metadata": {
        "id": "MYHRoj36EV6B"
      },
      "source": [
        "labels = spark.sql(\"\"\"\n",
        "  SELECT label, count(*) as freq\n",
        "  FROM data\n",
        "  GROUP BY label\n",
        "  ORDER BY 2 DESC\n",
        "\"\"\")"
      ],
      "execution_count": null,
      "outputs": []
    },
    {
      "cell_type": "code",
      "metadata": {
        "id": "pmZtqo1V-Ccq",
        "colab": {
          "base_uri": "https://localhost:8080/"
        },
        "outputId": "05e73cae-b075-465d-cebf-26aad3671a13"
      },
      "source": [
        "labels.show()"
      ],
      "execution_count": null,
      "outputs": [
        {
          "output_type": "stream",
          "name": "stdout",
          "text": [
            "+----------------+------+\n",
            "|           label|  freq|\n",
            "+----------------+------+\n",
            "|          smurf.|280790|\n",
            "|        neptune.|107201|\n",
            "|         normal.| 97278|\n",
            "|           back.|  2203|\n",
            "|          satan.|  1589|\n",
            "|        ipsweep.|  1247|\n",
            "|      portsweep.|  1040|\n",
            "|    warezclient.|  1020|\n",
            "|       teardrop.|   979|\n",
            "|            pod.|   264|\n",
            "|           nmap.|   231|\n",
            "|   guess_passwd.|    53|\n",
            "|buffer_overflow.|    30|\n",
            "|           land.|    21|\n",
            "|    warezmaster.|    20|\n",
            "|           imap.|    12|\n",
            "|        rootkit.|    10|\n",
            "|     loadmodule.|     9|\n",
            "|      ftp_write.|     8|\n",
            "|       multihop.|     7|\n",
            "+----------------+------+\n",
            "only showing top 20 rows\n",
            "\n"
          ]
        }
      ]
    },
    {
      "cell_type": "code",
      "metadata": {
        "id": "isahL3zB-F9p"
      },
      "source": [
        "labels_spark = df.groupBy('label')\\\n",
        "                .agg(f.count(f.lit(1))\\\n",
        "                    .alias('freq'))\\\n",
        "                    .orderBy('freq', ascending=False)"
      ],
      "execution_count": null,
      "outputs": []
    },
    {
      "cell_type": "code",
      "metadata": {
        "id": "iWuxd0wu-Fz9",
        "colab": {
          "base_uri": "https://localhost:8080/"
        },
        "outputId": "62965b79-d1dd-4d33-aa35-4b5c54a96be0"
      },
      "source": [
        "labels_spark.show()"
      ],
      "execution_count": null,
      "outputs": [
        {
          "output_type": "stream",
          "name": "stdout",
          "text": [
            "+----------------+------+\n",
            "|           label|  freq|\n",
            "+----------------+------+\n",
            "|          smurf.|280790|\n",
            "|        neptune.|107201|\n",
            "|         normal.| 97278|\n",
            "|           back.|  2203|\n",
            "|          satan.|  1589|\n",
            "|        ipsweep.|  1247|\n",
            "|      portsweep.|  1040|\n",
            "|    warezclient.|  1020|\n",
            "|       teardrop.|   979|\n",
            "|            pod.|   264|\n",
            "|           nmap.|   231|\n",
            "|   guess_passwd.|    53|\n",
            "|buffer_overflow.|    30|\n",
            "|           land.|    21|\n",
            "|    warezmaster.|    20|\n",
            "|           imap.|    12|\n",
            "|        rootkit.|    10|\n",
            "|     loadmodule.|     9|\n",
            "|      ftp_write.|     8|\n",
            "|       multihop.|     7|\n",
            "+----------------+------+\n",
            "only showing top 20 rows\n",
            "\n"
          ]
        }
      ]
    },
    {
      "cell_type": "markdown",
      "metadata": {
        "id": "9gCGSzGr-Azf"
      },
      "source": [
        "---\n",
        "#4. case, group by, count, order by"
      ]
    },
    {
      "cell_type": "code",
      "metadata": {
        "id": "Gyozq1CnEbBA"
      },
      "source": [
        "attack_protocol = spark.sql(\"\"\"\n",
        "                           SELECT\n",
        "                             protocol_type,\n",
        "                             CASE label\n",
        "                               WHEN 'normal.' THEN 'no attack'\n",
        "                               ELSE 'attack'\n",
        "                             END AS state,\n",
        "                             COUNT(*) as freq\n",
        "                           FROM data\n",
        "                           GROUP BY protocol_type, state\n",
        "                           ORDER BY 3 DESC\n",
        "                           \"\"\")"
      ],
      "execution_count": null,
      "outputs": []
    },
    {
      "cell_type": "code",
      "metadata": {
        "id": "Tjg6bbh7EwrH",
        "colab": {
          "base_uri": "https://localhost:8080/"
        },
        "outputId": "018b11c9-edd0-447b-f092-d7b46c8f89d6"
      },
      "source": [
        "attack_protocol.show()"
      ],
      "execution_count": null,
      "outputs": [
        {
          "output_type": "stream",
          "name": "stdout",
          "text": [
            "+-------------+---------+------+\n",
            "|protocol_type|    state|  freq|\n",
            "+-------------+---------+------+\n",
            "|         icmp|   attack|282314|\n",
            "|          tcp|   attack|113252|\n",
            "|          tcp|no attack| 76813|\n",
            "|          udp|no attack| 19177|\n",
            "|         icmp|no attack|  1288|\n",
            "|          udp|   attack|  1177|\n",
            "+-------------+---------+------+\n",
            "\n"
          ]
        }
      ]
    },
    {
      "cell_type": "code",
      "metadata": {
        "id": "qTAEnJp-XDlw"
      },
      "source": [
        "att_prot_spark = df.withColumn('state', f.when(df.label=='normal.', 'no attack').otherwise('attack'))\\\n",
        "                  .groupBy('protocol_type', 'state')\\\n",
        "                  .agg(f.count(f.lit(1)).alias('freq'))\\\n",
        "                  .orderBy('freq', ascending=False)\n"
      ],
      "execution_count": null,
      "outputs": []
    },
    {
      "cell_type": "code",
      "metadata": {
        "id": "AinIOikp6DB7",
        "colab": {
          "base_uri": "https://localhost:8080/"
        },
        "outputId": "531b8232-0afa-40bb-9b13-bdb0efd59d45"
      },
      "source": [
        "att_prot_spark.show()"
      ],
      "execution_count": null,
      "outputs": [
        {
          "output_type": "stream",
          "name": "stdout",
          "text": [
            "+-------------+---------+------+\n",
            "|protocol_type|    state|  freq|\n",
            "+-------------+---------+------+\n",
            "|         icmp|   attack|282314|\n",
            "|          tcp|   attack|113252|\n",
            "|          tcp|no attack| 76813|\n",
            "|          udp|no attack| 19177|\n",
            "|         icmp|no attack|  1288|\n",
            "|          udp|   attack|  1177|\n",
            "+-------------+---------+------+\n",
            "\n"
          ]
        }
      ]
    },
    {
      "cell_type": "markdown",
      "metadata": {
        "id": "QvLHycsW_u4J"
      },
      "source": [
        "---\n",
        "#5. group by, aggregations"
      ]
    },
    {
      "cell_type": "code",
      "metadata": {
        "id": "O1GPRBt47ODq"
      },
      "source": [
        "attack_stats = spark.sql(\"\"\"\n",
        "                          SELECT\n",
        "                            protocol_type,\n",
        "                            CASE label\n",
        "                              WHEN 'normal.' THEN 'no attack'\n",
        "                              ELSE 'attack'\n",
        "                            END AS state,\n",
        "                            COUNT(*) as total_freq,\n",
        "                            ROUND(AVG(src_bytes), 2) as mean_src_bytes,\n",
        "                            ROUND(AVG(dst_bytes), 2) as mean_dst_bytes,\n",
        "                            ROUND(AVG(duration), 2) as mean_duration,\n",
        "                            SUM(num_failed_logins) as total_failed_logins,\n",
        "                            SUM(num_compromised) as total_compromised,\n",
        "                            SUM(num_file_creations) as total_file_creations,\n",
        "                            SUM(su_attempted) as total_root_attempts,\n",
        "                            SUM(num_root) as total_root_acceses\n",
        "                          FROM data\n",
        "                          GROUP BY protocol_type, state\n",
        "                          ORDER BY 3 DESC\n",
        "                          \"\"\")"
      ],
      "execution_count": null,
      "outputs": []
    },
    {
      "cell_type": "code",
      "metadata": {
        "id": "KpzYvR-Y9vaw",
        "colab": {
          "base_uri": "https://localhost:8080/"
        },
        "outputId": "12c29c68-d393-42d6-ebd2-b798f99ee93f"
      },
      "source": [
        "attack_stats.show()"
      ],
      "execution_count": null,
      "outputs": [
        {
          "output_type": "stream",
          "name": "stdout",
          "text": [
            "+-------------+---------+----------+--------------+--------------+-------------+-------------------+-----------------+--------------------+-------------------+------------------+\n",
            "|protocol_type|    state|total_freq|mean_src_bytes|mean_dst_bytes|mean_duration|total_failed_logins|total_compromised|total_file_creations|total_root_attempts|total_root_acceses|\n",
            "+-------------+---------+----------+--------------+--------------+-------------+-------------------+-----------------+--------------------+-------------------+------------------+\n",
            "|         icmp|   attack|    282314|        932.14|           0.0|          0.0|                  0|                0|                   0|                0.0|                 0|\n",
            "|          tcp|   attack|    113252|       9880.38|        881.41|        23.19|                 57|             2269|                  76|                1.0|               152|\n",
            "|          tcp|no attack|     76813|       1439.31|       4263.97|        11.08|                 18|             2776|                 459|               17.0|              5456|\n",
            "|          udp|no attack|     19177|         98.01|         89.89|      1054.63|                  0|                0|                   0|                0.0|                 0|\n",
            "|         icmp|no attack|      1288|         91.47|           0.0|          0.0|                  0|                0|                   0|                0.0|                 0|\n",
            "|          udp|   attack|      1177|          27.5|          0.23|          0.0|                  0|                0|                   0|                0.0|                 0|\n",
            "+-------------+---------+----------+--------------+--------------+-------------+-------------------+-----------------+--------------------+-------------------+------------------+\n",
            "\n"
          ]
        }
      ]
    },
    {
      "cell_type": "code",
      "metadata": {
        "id": "Ig3lTdSb90Ey"
      },
      "source": [
        "attack_stats_spark = df.withColumn('state', f.when(df.label=='normal.', 'no attack').otherwise('attack'))\\\n",
        ".groupBy('protocol_type', 'state')\\\n",
        ".agg(f.count(f.lit(1)).alias('total_freq'),\n",
        "     f.avg('src_bytes').alias('mean_src_bytes'),\n",
        "     f.avg('dst_bytes').alias('mean_dst_bytes'),\n",
        "     f.avg('duration').alias('mean_duration'),\n",
        "     f.sum('num_failed_logins').alias('total_failed_logins'),\n",
        "     f.sum('num_compromised').alias('total_compromised'),\n",
        "     f.sum('num_file_creations').alias('total_file_creations'),\n",
        "     f.sum('su_attempted').alias('total_root_attempts'),\n",
        "     f.sum('num_root').alias('total_root_acceses'),\n",
        "     )\\\n",
        "     .orderBy('total_freq', ascending=False)"
      ],
      "execution_count": null,
      "outputs": []
    },
    {
      "cell_type": "code",
      "metadata": {
        "id": "cGJt0IrxAIXh",
        "colab": {
          "base_uri": "https://localhost:8080/"
        },
        "outputId": "2b8e0f65-35b9-4713-90ed-50b17c4f3a58"
      },
      "source": [
        "attack_stats_spark.show()"
      ],
      "execution_count": null,
      "outputs": [
        {
          "output_type": "stream",
          "name": "stdout",
          "text": [
            "+-------------+---------+----------+------------------+-------------------+------------------+-------------------+-----------------+--------------------+-------------------+------------------+\n",
            "|protocol_type|    state|total_freq|    mean_src_bytes|     mean_dst_bytes|     mean_duration|total_failed_logins|total_compromised|total_file_creations|total_root_attempts|total_root_acceses|\n",
            "+-------------+---------+----------+------------------+-------------------+------------------+-------------------+-----------------+--------------------+-------------------+------------------+\n",
            "|         icmp|   attack|    282314| 932.1362985895138|                0.0|               0.0|                  0|                0|                   0|                0.0|                 0|\n",
            "|          tcp|   attack|    113252| 9880.375225161586|  881.4052467064599| 23.19422173559849|                 57|             2269|                  76|                1.0|               152|\n",
            "|          tcp|no attack|     76813|1439.3120305156679|   4263.96793511515|11.082980745446735|                 18|             2776|                 459|               17.0|              5456|\n",
            "|          udp|no attack|     19177| 98.01220211711947|  89.89471763049487|  1054.63179850863|                  0|                0|                   0|                0.0|                 0|\n",
            "|         icmp|no attack|      1288| 91.47049689440993|                0.0|               0.0|                  0|                0|                   0|                0.0|                 0|\n",
            "|          udp|   attack|      1177| 27.50467289719626|0.22939677145284623|               0.0|                  0|                0|                   0|                0.0|                 0|\n",
            "+-------------+---------+----------+------------------+-------------------+------------------+-------------------+-----------------+--------------------+-------------------+------------------+\n",
            "\n"
          ]
        }
      ]
    },
    {
      "cell_type": "markdown",
      "metadata": {
        "id": "baMxExBFEwNy"
      },
      "source": [
        "---\n",
        "# 6. filter, group by"
      ]
    },
    {
      "cell_type": "code",
      "metadata": {
        "id": "EkagtnddEvgs"
      },
      "source": [
        "tcp_attack_stats = spark.sql(\"\"\"\n",
        "                              SELECT\n",
        "                                service,\n",
        "                                label as attack_type,\n",
        "                                COUNT(*) as total_freq,\n",
        "                                ROUND(AVG(duration), 2) as mean_duration,\n",
        "                                SUM(num_failed_logins) as total_failed_logins,\n",
        "                                SUM(num_file_creations) as total_file_creations,\n",
        "                                SUM(su_attempted) as total_root_attempts,\n",
        "                                SUM(num_root) as total_root_acceses\n",
        "                              FROM data\n",
        "                              WHERE protocol_type = 'tcp'\n",
        "                              AND label != 'normal.'\n",
        "                              GROUP BY service, attack_type\n",
        "                              ORDER BY total_freq DESC\n",
        "                              \"\"\")"
      ],
      "execution_count": null,
      "outputs": []
    },
    {
      "cell_type": "code",
      "metadata": {
        "id": "8LPlGI18AlO2",
        "colab": {
          "base_uri": "https://localhost:8080/"
        },
        "outputId": "ea2975ca-41cc-499a-9876-4a8932fb54ff"
      },
      "source": [
        "tcp_attack_stats.show()"
      ],
      "execution_count": 68,
      "outputs": [
        {
          "output_type": "stream",
          "name": "stdout",
          "text": [
            "+--------+----------------+----------+\n",
            "| service|     attack_type|total_freq|\n",
            "+--------+----------------+----------+\n",
            "|    http|           back.|      2203|\n",
            "| private|      portsweep.|       725|\n",
            "|ftp_data|    warezclient.|       708|\n",
            "|     ftp|    warezclient.|       307|\n",
            "|   other|      portsweep.|       260|\n",
            "| private|          satan.|       170|\n",
            "|  telnet|   guess_passwd.|        53|\n",
            "|  telnet|buffer_overflow.|        21|\n",
            "|ftp_data|    warezmaster.|        18|\n",
            "|   imap4|           imap.|        12|\n",
            "|  telnet|     loadmodule.|         5|\n",
            "|   other|    warezclient.|         5|\n",
            "|  telnet|        rootkit.|         5|\n",
            "|  supdup|      portsweep.|         4|\n",
            "|    http|            phf.|         4|\n",
            "|    http|      portsweep.|         3|\n",
            "|  telnet|           perl.|         3|\n",
            "|ftp_data|       multihop.|         3|\n",
            "|csnet_ns|      portsweep.|         3|\n",
            "|   pop_3|      portsweep.|         3|\n",
            "+--------+----------------+----------+\n",
            "only showing top 20 rows\n",
            "\n"
          ]
        }
      ]
    },
    {
      "cell_type": "code",
      "metadata": {
        "id": "gV9GkI6YE4Y9"
      },
      "source": [
        "tcp_attack_stats_spark = df.filter((df.protocol_type  == \"tcp\") & (df.label  != \"normal.\")).\\\n",
        "groupBy('service', df.label.alias('attack_type'))\\\n",
        ".agg(f.count(f.lit(1)).alias('total_freq'),\n",
        "     f.avg('duration').alias('mean_duration'),\n",
        "     f.sum('num_failed_logins').alias('total_failed_logins'),\n",
        "     f.sum('num_file_creations').alias('total_file_creations'),\n",
        "     f.sum('su_attempted').alias('total_root_attempts'),\n",
        "     f.sum('num_root').alias('total_root_acceses'))\\\n",
        ".orderBy('total_freq', ascending=False)"
      ],
      "execution_count": 69,
      "outputs": []
    },
    {
      "cell_type": "code",
      "metadata": {
        "id": "ksvTWt7FFspS",
        "colab": {
          "base_uri": "https://localhost:8080/"
        },
        "outputId": "0b97d983-7e5c-4592-eefa-bf6a2dcdf1d7"
      },
      "source": [
        "tcp_attack_stats_spark.show()"
      ],
      "execution_count": null,
      "outputs": [
        {
          "output_type": "stream",
          "name": "stdout",
          "text": [
            "+----------+------------+----------+--------------------+-------------------+--------------------+-------------------+------------------+\n",
            "|   service| attack_type|total_freq|       mean_duration|total_failed_logins|total_file_creations|total_root_attempts|total_root_acceses|\n",
            "+----------+------------+----------+--------------------+-------------------+--------------------+-------------------+------------------+\n",
            "|   private|    neptune.|    101317|                 0.0|                  0|                   0|                0.0|                 0|\n",
            "|      http|       back.|      2203|  0.1289151157512483|                  0|                   0|                0.0|                 0|\n",
            "|     other|      satan.|      1221|0.004914004914004914|                  0|                   0|                0.0|                 0|\n",
            "|   private|  portsweep.|       725|  1915.8110344827587|                  0|                   0|                0.0|                 0|\n",
            "|  ftp_data|warezclient.|       708|  403.70621468926555|                  0|                   0|                0.0|                 0|\n",
            "|       ftp|warezclient.|       307|  1063.7915309446255|                  0|                   0|                0.0|                 0|\n",
            "|     other|  portsweep.|       260|  1058.2153846153847|                  0|                   0|                0.0|                 0|\n",
            "|    telnet|    neptune.|       197|                 0.0|                  0|                   0|                0.0|                 0|\n",
            "|      http|    neptune.|       192|                 0.0|                  0|                   0|                0.0|                 0|\n",
            "|    finger|    neptune.|       177|                 0.0|                  0|                   0|                0.0|                 0|\n",
            "|  ftp_data|    neptune.|       170|                 0.0|                  0|                   0|                0.0|                 0|\n",
            "|   private|      satan.|       170|0.052941176470588235|                  0|                   0|                0.0|                 0|\n",
            "|  csnet_ns|    neptune.|       123|                 0.0|                  0|                   0|                0.0|                 0|\n",
            "|      smtp|    neptune.|       120|                 0.0|                  0|                   0|                0.0|                 0|\n",
            "|     pop_3|    neptune.|       118|                 0.0|                  0|                   0|                0.0|                 0|\n",
            "|remote_job|    neptune.|       118|                 0.0|                  0|                   0|                0.0|                 0|\n",
            "|   discard|    neptune.|       115|                 0.0|                  0|                   0|                0.0|                 0|\n",
            "|  iso_tsap|    neptune.|       115|                 0.0|                  0|                   0|                0.0|                 0|\n",
            "|    systat|    neptune.|       113|                 0.0|                  0|                   0|                0.0|                 0|\n",
            "|    domain|    neptune.|       112|                 0.0|                  0|                   0|                0.0|                 0|\n",
            "+----------+------------+----------+--------------------+-------------------+--------------------+-------------------+------------------+\n",
            "only showing top 20 rows\n",
            "\n"
          ]
        }
      ]
    },
    {
      "cell_type": "markdown",
      "metadata": {
        "id": "iTCIdHu5NGK2"
      },
      "source": [
        "---\n",
        "#7. sub-queries"
      ]
    },
    {
      "cell_type": "code",
      "metadata": {
        "id": "7lvC5LyrLOyK"
      },
      "source": [
        "tcp_attack_stats = spark.sql(\"\"\"\n",
        "                              SELECT\n",
        "                                t.service,\n",
        "                                t.attack_type,\n",
        "                                t.total_freq\n",
        "                              FROM\n",
        "                              (SELECT\n",
        "                                service,\n",
        "                                label as attack_type,\n",
        "                                COUNT(*) as total_freq,\n",
        "                                ROUND(AVG(duration), 2) as mean_duration,\n",
        "                                SUM(num_failed_logins) as total_failed_logins,\n",
        "                                SUM(num_file_creations) as total_file_creations,\n",
        "                                SUM(su_attempted) as total_root_attempts,\n",
        "                                SUM(num_root) as total_root_acceses\n",
        "                              FROM data\n",
        "                              WHERE protocol_type = 'tcp'\n",
        "                              AND label != 'normal.'\n",
        "                              GROUP BY service, attack_type\n",
        "                              ORDER BY total_freq DESC) as t\n",
        "                                WHERE t.mean_duration > 0\n",
        "                              \"\"\")"
      ],
      "execution_count": null,
      "outputs": []
    },
    {
      "cell_type": "code",
      "metadata": {
        "id": "Df0x3JcVNqHY",
        "colab": {
          "base_uri": "https://localhost:8080/"
        },
        "outputId": "fdfd3920-cffe-4f6c-dd7c-0bfee12f619c"
      },
      "source": [
        "tcp_attack_stats.show()"
      ],
      "execution_count": null,
      "outputs": [
        {
          "output_type": "stream",
          "name": "stdout",
          "text": [
            "+--------+----------------+----------+\n",
            "| service|     attack_type|total_freq|\n",
            "+--------+----------------+----------+\n",
            "|    http|           back.|      2203|\n",
            "| private|      portsweep.|       725|\n",
            "|ftp_data|    warezclient.|       708|\n",
            "|     ftp|    warezclient.|       307|\n",
            "|   other|      portsweep.|       260|\n",
            "| private|          satan.|       170|\n",
            "|  telnet|   guess_passwd.|        53|\n",
            "|  telnet|buffer_overflow.|        21|\n",
            "|ftp_data|    warezmaster.|        18|\n",
            "|   imap4|           imap.|        12|\n",
            "|  telnet|     loadmodule.|         5|\n",
            "|   other|    warezclient.|         5|\n",
            "|  telnet|        rootkit.|         5|\n",
            "|  supdup|      portsweep.|         4|\n",
            "|    http|            phf.|         4|\n",
            "|    http|      portsweep.|         3|\n",
            "|  telnet|           perl.|         3|\n",
            "|ftp_data|       multihop.|         3|\n",
            "|csnet_ns|      portsweep.|         3|\n",
            "|   pop_3|      portsweep.|         3|\n",
            "+--------+----------------+----------+\n",
            "only showing top 20 rows\n",
            "\n"
          ]
        }
      ]
    },
    {
      "cell_type": "code",
      "metadata": {
        "id": "3MBu9zi4NuRH"
      },
      "source": [
        "tcp_attack_stats_spark = df.filter((df.protocol_type  == \"tcp\") & (df.label  != \"normal.\"))\\\n",
        ".groupBy('service', df.label.alias('attack_type'))\\\n",
        ".agg(f.count(f.lit(1)).alias('total_freq'),\n",
        "     f.avg('duration').alias('mean_duration'),\n",
        "     f.sum('num_failed_logins').alias('total_failed_logins'),\n",
        "     f.sum('num_file_creations').alias('total_file_creations'),\n",
        "     f.sum('su_attempted').alias('total_root_attempts'),\n",
        "     f.sum('num_root').alias('total_root_acceses'))\\\n",
        ".orderBy('total_freq', ascending=False)\\\n",
        ".filter(f.col('mean_duration') > 0)\\\n",
        ".select('service', 'attack_type', 'total_freq')"
      ],
      "execution_count": null,
      "outputs": []
    },
    {
      "cell_type": "code",
      "metadata": {
        "id": "5q-gcTdgOWJX",
        "colab": {
          "base_uri": "https://localhost:8080/"
        },
        "outputId": "8a498777-5e9f-462b-e7a8-57953ee10932"
      },
      "source": [
        "tcp_attack_stats_spark.show()"
      ],
      "execution_count": null,
      "outputs": [
        {
          "output_type": "stream",
          "name": "stdout",
          "text": [
            "+--------+----------------+----------+\n",
            "| service|     attack_type|total_freq|\n",
            "+--------+----------------+----------+\n",
            "|    http|           back.|      2203|\n",
            "|   other|          satan.|      1221|\n",
            "| private|      portsweep.|       725|\n",
            "|ftp_data|    warezclient.|       708|\n",
            "|     ftp|    warezclient.|       307|\n",
            "|   other|      portsweep.|       260|\n",
            "| private|          satan.|       170|\n",
            "|  telnet|   guess_passwd.|        53|\n",
            "|  telnet|buffer_overflow.|        21|\n",
            "|ftp_data|    warezmaster.|        18|\n",
            "|   imap4|           imap.|        12|\n",
            "|   other|    warezclient.|         5|\n",
            "|  telnet|        rootkit.|         5|\n",
            "|  telnet|     loadmodule.|         5|\n",
            "|  supdup|      portsweep.|         4|\n",
            "|    http|            phf.|         4|\n",
            "|  telnet|           perl.|         3|\n",
            "|   pop_3|      portsweep.|         3|\n",
            "|csnet_ns|      portsweep.|         3|\n",
            "|ftp_data|       multihop.|         3|\n",
            "+--------+----------------+----------+\n",
            "only showing top 20 rows\n",
            "\n"
          ]
        }
      ]
    },
    {
      "cell_type": "code",
      "source": [],
      "metadata": {
        "id": "YS3-EGdX4NOf"
      },
      "execution_count": null,
      "outputs": []
    }
  ]
}